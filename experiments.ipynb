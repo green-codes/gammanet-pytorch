{
 "cells": [
  {
   "cell_type": "code",
   "execution_count": null,
   "metadata": {},
   "outputs": [],
   "source": [
    "import torch\n",
    "import torch.nn as nn\n",
    "import torchvision\n",
    "\n",
    "import numpy as np\n",
    "import matplotlib.pyplot as plt"
   ]
  },
  {
   "cell_type": "markdown",
   "metadata": {},
   "source": [
    "# BSDS500"
   ]
  },
  {
   "cell_type": "code",
   "execution_count": null,
   "metadata": {},
   "outputs": [],
   "source": [
    "# prepare dataset\n",
    "# NOTE: remember to adjust PadTo2Power's k value according to gamma-net depth\n",
    "# NOTE: data stays in CPU until right before forward pass (i.e. no need for memory pinning, etc)\n",
    "\n",
    "from dataset import *\n",
    "from transforms import *\n",
    "from torch.utils.data import DataLoader\n",
    "\n",
    "x_transform = torchvision.transforms.Compose([ToTensor(make_channel_first=True, div=True),\n",
    "                                              PadTo2Power(axes=(1,2), k=5, mode='constant'),\n",
    "                                              AssertWidthMajor()])\n",
    "y_transform = torchvision.transforms.Compose([ToTensor(make_channel_first=False, float_out=False),\n",
    "                                              PadTo2Power(axes=(0,1), k=5, mode='constant'),\n",
    "                                              AssertWidthMajor()])\n",
    "ds_train = SimpleDataset(\"bsds500/x_train.txt\",\n",
    "                         \"bsds500/y_c_train.txt\",\n",
    "                         x_transform=x_transform, y_transform=y_transform)\n",
    "dl_train = DataLoader(ds_train, batch_size=1, shuffle=True, num_workers=8)"
   ]
  },
  {
   "cell_type": "code",
   "execution_count": null,
   "metadata": {
    "scrolled": false
   },
   "outputs": [],
   "source": [
    "from gammanet import GammaNet\n",
    "\n",
    "gammanet_config = {\n",
    "    'in_channels': 24,\n",
    "    'return_sequences': False,\n",
    "    'num_filters': [24, 28, 36, 48, 64],\n",
    "    'conv_kernel_size': [3, 3, 3, 3, 3],\n",
    "    'conv_blocksize': [1, 1, 1, 1, 1],\n",
    "    'conv_normtype': 'instancenorm',\n",
    "    'conv_dropout_p': 0.2,  # 0.2\n",
    "    'conv_residual': False,\n",
    "    'fgru_hidden_size': [24, 28, 36, 48, 64],\n",
    "    'fgru_kernel_size': [9,  7,  5,  3,  1,  1,  1,  1,  1],\n",
    "    'fgru_timesteps': 2,\n",
    "    'fgru_normtype': 'instancenorm',\n",
    "    'fgru_channel_sym': True,\n",
    "    'upsample_mode': 'bilinear',\n",
    "    'upsample_all2all': True,\n",
    "}\n",
    "\n",
    "model = nn.Sequential(\n",
    "    nn.Conv2d(3, 24, 3, padding=1),\n",
    "    nn.Conv2d(24, 24, 3, padding=1),\n",
    "    GammaNet(gammanet_config),\n",
    "    nn.Conv2d(24, 2, 5, padding=2)\n",
    ")\n",
    "\n",
    "model = nn.DataParallel(model)\n",
    "\n",
    "if torch.cuda.is_available():\n",
    "    model = model.cuda()\n",
    "else:\n",
    "    model = model.double()"
   ]
  },
  {
   "cell_type": "code",
   "execution_count": null,
   "metadata": {},
   "outputs": [],
   "source": [
    "import torch.optim as optim\n",
    "\n",
    "criterion = nn.CrossEntropyLoss()\n",
    "criterion = criterion.cuda() if torch.cuda.is_available() else criterion\n",
    "optimizer = optim.Adam(model.parameters(), lr=1e-3)"
   ]
  },
  {
   "cell_type": "code",
   "execution_count": null,
   "metadata": {},
   "outputs": [],
   "source": [
    "import time\n",
    "start_time = time.time()\n",
    "\n",
    "epochs = 2\n",
    "for epoch in range(epochs):  # loop over the dataset multiple times\n",
    "    \n",
    "    start_time_epoch = time.time()\n",
    "\n",
    "    for i, data in enumerate(dl_train):\n",
    "        # get the inputs; data is a list of [inputs, labels]\n",
    "        inputs = data[0].cuda() if torch.cuda.is_available() else data[0].double()\n",
    "        labels = data[1].cuda() if torch.cuda.is_available() else data[1]\n",
    "\n",
    "        # zero the parameter gradients\n",
    "        optimizer.zero_grad()\n",
    "\n",
    "        # forward + backward + optimize\n",
    "        outputs = model.forward(inputs)\n",
    "        loss = criterion(outputs, labels)\n",
    "        loss.backward()\n",
    "        optimizer.step()\n",
    "\n",
    "        # print statistics\n",
    "        progress = (i+1 + epoch*len(dl_train)) / (epochs*len(dl_train))\n",
    "        time_elapsed = time.time() - start_time\n",
    "        time_to_completion = time_elapsed / progress\n",
    "        print(\"{}, {}/{}, ETA: \".format(epoch+1, i+1, len(dl_train)) + \n",
    "              time.strftime(\"%H:%M:%S\", time.gmtime(time_to_completion)), end='\\r')\n",
    "\n",
    "print('Finished Training')"
   ]
  },
  {
   "cell_type": "code",
   "execution_count": null,
   "metadata": {},
   "outputs": [],
   "source": [
    "torch.save(model.state_dict(), \"model_e2.pkl\")"
   ]
  },
  {
   "cell_type": "code",
   "execution_count": null,
   "metadata": {},
   "outputs": [],
   "source": []
  }
 ],
 "metadata": {
  "kernelspec": {
   "display_name": "Python 3",
   "language": "python",
   "name": "python3"
  },
  "language_info": {
   "codemirror_mode": {
    "name": "ipython",
    "version": 3
   },
   "file_extension": ".py",
   "mimetype": "text/x-python",
   "name": "python",
   "nbconvert_exporter": "python",
   "pygments_lexer": "ipython3",
   "version": "3.7.4"
  }
 },
 "nbformat": 4,
 "nbformat_minor": 2
}

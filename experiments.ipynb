{
 "cells": [
  {
   "cell_type": "code",
   "execution_count": null,
   "metadata": {},
   "outputs": [],
   "source": [
    "import torch\n",
    "import torch.nn as nn\n",
    "import torchvision\n",
    "\n",
    "import numpy as np\n",
    "import matplotlib.pyplot as plt\n",
    "\n",
    "import os\n",
    "os.environ['KMP_DUPLICATE_LIB_OK']='True'\n",
    "\n",
    "from dataset import *\n",
    "from transforms import *\n",
    "from torch.utils.data import DataLoader"
   ]
  },
  {
   "cell_type": "markdown",
   "metadata": {},
   "source": [
    "# Training Datasets"
   ]
  },
  {
   "cell_type": "code",
   "execution_count": null,
   "metadata": {},
   "outputs": [],
   "source": [
    "# BSDS 500\n",
    "\n",
    "# NOTE: remember to adjust PadTo2Power's k value according to gamma-net depth\n",
    "# NOTE: data stays in CPU until right before forward pass (i.e. no need for memory pinning, etc)\n",
    "\n",
    "x_transform = torchvision.transforms.Compose([CenterCrop((256,256)),\n",
    "                                              ToTensor(make_channel_first=True, div=True),\n",
    "                                              PadTo2Power(axes=(1,2), k=5, mode='constant'),\n",
    "                                              AssertWidthMajor()])\n",
    "y_transform = torchvision.transforms.Compose([CenterCrop((256,256)),\n",
    "                                              ToTensor(make_channel_first=False, float_out=False),\n",
    "                                              PadTo2Power(axes=(0,1), k=5, mode='constant'),\n",
    "                                              AssertWidthMajor()])\n",
    "ds_train = SimpleDataset(\"bsds500/x_train.txt\",\n",
    "                         \"bsds500/y_c_train.txt\",\n",
    "                         x_transform=x_transform, y_transform=y_transform)\n",
    "dl_train = DataLoader(ds_train, batch_size=4, shuffle=True, num_workers=0)"
   ]
  },
  {
   "cell_type": "code",
   "execution_count": null,
   "metadata": {},
   "outputs": [],
   "source": [
    "# ACDC\n",
    "\n",
    "# NOTE: remember to adjust PadTo2Power's k value according to gamma-net depth\n",
    "# NOTE: data stays in CPU until right before forward pass (i.e. no need for memory pinning, etc)\n",
    "\n",
    "x_transform = torchvision.transforms.Compose([PadOrCenterCrop(size=(224,224)),\n",
    "                                              ToTensor(make_channel_first=True, div=True),\n",
    "                                              ExpandDims(dim=0)])\n",
    "y_transform = torchvision.transforms.Compose([PadOrCenterCrop(size=(224,224)),\n",
    "                                              ToTensor(make_channel_first=False, float_out=False)])\n",
    "ds_train = SimpleDataset(\"ACDC_Dataset_p/training/x_train.txt\",\n",
    "                         \"ACDC_Dataset_p/training/y_train.txt\",\n",
    "                        x_transform=x_transform, y_transform=y_transform)\n",
    "dl_train = DataLoader(ds_train, batch_size=8, shuffle=True, num_workers=0)\n",
    "ds_val = SimpleDataset(\"ACDC_Dataset_p/training/x_val.txt\",\n",
    "                       \"ACDC_Dataset_p/training/y_val.txt\",\n",
    "                        x_transform=x_transform, y_transform=y_transform)\n",
    "dl_val = DataLoader(ds_val, batch_size=32, shuffle=True, num_workers=0)"
   ]
  },
  {
   "cell_type": "markdown",
   "metadata": {},
   "source": [
    "# Gamma-Net"
   ]
  },
  {
   "cell_type": "code",
   "execution_count": null,
   "metadata": {},
   "outputs": [],
   "source": [
    "from gammanet import GammaNet\n",
    "\n",
    "gammanet_config = {\n",
    "    'in_channels': 24,\n",
    "    'return_sequences': False,\n",
    "    'num_filters': [24, 28, 36, 48, 64],\n",
    "    'conv_kernel_size': [3, 3, 3, 3, 3],\n",
    "    'conv_blocksize': [1, 1, 1, 1, 1],\n",
    "    'conv_normtype': 'instancenorm',\n",
    "    'conv_dropout_p': 0.2,  # 0.2\n",
    "    'conv_residual': False,\n",
    "    'fgru_hidden_size': [24, 28, 36, 48, 64],\n",
    "    'fgru_kernel_size': [9,  7,  5,  3,  1,  1,  1,  1,  1],\n",
    "    'fgru_timesteps': 4,\n",
    "    'fgru_normtype': 'instancenorm',\n",
    "    'fgru_channel_sym': True,\n",
    "    'upsample_mode': 'bilinear',\n",
    "    'upsample_all2all': True,\n",
    "}\n",
    "\n",
    "model = nn.Sequential(\n",
    "    nn.Conv2d(1, 24, 3, padding=1), # Change the number of input channels! \n",
    "    nn.Conv2d(24, 24, 3, padding=1),\n",
    "    GammaNet(gammanet_config),\n",
    "    nn.Conv2d(24, 4, 5, padding=2)  # Change the expected number of output classes! \n",
    ")\n",
    "\n",
    "if torch.cuda.is_available():\n",
    "    model = model.cuda().float()\n",
    "else:\n",
    "    model = model.double()"
   ]
  },
  {
   "cell_type": "code",
   "execution_count": null,
   "metadata": {},
   "outputs": [],
   "source": [
    "load_model = False\n",
    "model_file = \"models_v2_acdc/model_e400.pkl\"\n",
    "if load_model:\n",
    "    if torch.cuda.is_available():\n",
    "        model.load_state_dict(torch.load(model_file))\n",
    "    else:\n",
    "        model.load_state_dict(torch.load(model_file, map_location=torch.device('cpu')))"
   ]
  },
  {
   "cell_type": "code",
   "execution_count": null,
   "metadata": {},
   "outputs": [],
   "source": [
    "model = nn.DataParallel(model)"
   ]
  },
  {
   "cell_type": "markdown",
   "metadata": {},
   "source": [
    "## Training model"
   ]
  },
  {
   "cell_type": "code",
   "execution_count": null,
   "metadata": {},
   "outputs": [],
   "source": [
    "import torch.optim as optim\n",
    "\n",
    "criterion = nn.CrossEntropyLoss()\n",
    "criterion = criterion.cuda() if torch.cuda.is_available() else criterion\n",
    "optimizer = optim.Adam(model.parameters(), lr=1e-3)"
   ]
  },
  {
   "cell_type": "code",
   "execution_count": null,
   "metadata": {},
   "outputs": [],
   "source": [
    "from datetime import datetime, timedelta\n",
    "start_time = datetime.now()\n",
    "\n",
    "save_model = True\n",
    "save_period = 10\n",
    "model_file_template = \"model_e{}.pkl\"\n",
    "\n",
    "save_loss = True\n",
    "loss_file_path = \"loss.pkl\"\n",
    "train_loss = []\n",
    "val_loss = []\n",
    "\n",
    "epochs = 1000\n",
    "for epoch in range(epochs):  # loop over the dataset multiple times\n",
    "\n",
    "    model.train()\n",
    "    train_loss_epoch = []\n",
    "    for i, data in enumerate(dl_train):\n",
    "        # get the inputs; data is a list of [inputs, labels]\n",
    "        inputs = data[0].cuda().float() if torch.cuda.is_available() else data[0].double()\n",
    "        labels = data[1].cuda() if torch.cuda.is_available() else data[1]\n",
    "\n",
    "        # zero the parameter gradients\n",
    "        optimizer.zero_grad()\n",
    "\n",
    "        # forward + backward + optimize\n",
    "        outputs = model.forward(inputs)\n",
    "        loss = criterion(outputs, labels)\n",
    "        loss.backward()\n",
    "        optimizer.step()\n",
    "        train_loss_epoch += [loss.item()]\n",
    "\n",
    "        # print statistics\n",
    "        progress = (i+1 + epoch*len(dl_train)) / (epochs*len(dl_train))\n",
    "        time_elapsed = datetime.now() - start_time\n",
    "        time_to_completion = time_elapsed / progress - time_elapsed\n",
    "        print(\"Epoch: {}, Train, Batch {}/{}, ETA: \".format(epoch+1, i+1, len(dl_train)) + \n",
    "              str(time_to_completion), end='\\r')\n",
    "    train_loss += [train_loss_epoch]\n",
    "                \n",
    "    model.eval()\n",
    "    val_loss_epoch = []\n",
    "    for i, data in enumerate(dl_val):\n",
    "        inputs = data[0].cuda().float() if torch.cuda.is_available() else data[0].double()\n",
    "        labels = data[1].cuda() if torch.cuda.is_available() else data[1]\n",
    "        with torch.no_grad():\n",
    "            outputs = model.forward(inputs)\n",
    "            loss = criterion(outputs, labels)\n",
    "        val_loss_epoch += [loss.item()]\n",
    "        print(\"Epoch: {}, Val, Batch {}/{}\".format(epoch+1, i+1, len(dl_val))+' '*40, end='\\r')\n",
    "    val_loss += [val_loss_epoch]\n",
    "        \n",
    "    if save_model and epoch+1 % save_period == 0:\n",
    "        if isinstance(model, nn.DataParallel):\n",
    "            torch.save(model.module.state_dict(), model_file_template.format(epoch+1))\n",
    "        else:\n",
    "            torch.save(model.state_dict(), model_file_template.format(epoch+1))\n",
    "\n",
    "if save_loss:\n",
    "    pickle.dump((train_loss, val_loss), open(loss_file_path, 'wb'))\n",
    "\n",
    "print('\\nFinished Training')"
   ]
  },
  {
   "cell_type": "markdown",
   "metadata": {},
   "source": [
    "# Tests"
   ]
  },
  {
   "cell_type": "code",
   "execution_count": null,
   "metadata": {},
   "outputs": [],
   "source": [
    "# BSDS500 test set\n",
    "\n",
    "x_transform = torchvision.transforms.Compose([Resize(size=(150,150)),\n",
    "                                              ToTensor(make_channel_first=True, div=False),\n",
    "                                              PadTo2Power(axes=(1,2), k=5, mode='constant'),\n",
    "                                              AssertWidthMajor()])\n",
    "ds_test = SimpleDataset(\"bsds500/x_test.txt\", x_transform=x_transform)\n",
    "dl_test = DataLoader(ds_test, batch_size=1, shuffle=False, num_workers=0)"
   ]
  },
  {
   "cell_type": "code",
   "execution_count": null,
   "metadata": {},
   "outputs": [],
   "source": [
    "# ACDC test set\n",
    "\n",
    "x_transform = torchvision.transforms.Compose([PadOrCenterCrop(size=(224,224)),\n",
    "                                              ToTensor(make_channel_first=True, div=True),\n",
    "                                              ExpandDims(dim=0)])\n",
    "ds_test = SimpleDataset(\"ACDC_Dataset_p/testing/x_arr.txt\", x_transform=x_transform)\n",
    "dl_test = DataLoader(ds_test, batch_size=4, shuffle=True, num_workers=0)"
   ]
  },
  {
   "cell_type": "code",
   "execution_count": null,
   "metadata": {},
   "outputs": [],
   "source": [
    "# load from training data\n",
    "\n",
    "x,y = next(iter(dl_train))\n",
    "x = x.float() if torch.cuda.is_available() else x.double()\n",
    "print(x.shape, y.shape)\n",
    "print(x.max(),x.min(),y.max(),y.min())"
   ]
  },
  {
   "cell_type": "code",
   "execution_count": null,
   "metadata": {},
   "outputs": [],
   "source": [
    "# load from test data\n",
    "\n",
    "x = next(iter(dl_test))\n",
    "x = x.float() if torch.cuda.is_available() else x.double()\n",
    "print(x.shape)\n",
    "print(x.max(),x.min())\n",
    "if \"y\" in dir():\n",
    "    del(y)"
   ]
  },
  {
   "cell_type": "markdown",
   "metadata": {},
   "source": [
    "## Result visualizations"
   ]
  },
  {
   "cell_type": "code",
   "execution_count": null,
   "metadata": {},
   "outputs": [],
   "source": [
    "# run test data through model\n",
    "\n",
    "model.eval()\n",
    "res = model(x)"
   ]
  },
  {
   "cell_type": "code",
   "execution_count": null,
   "metadata": {},
   "outputs": [],
   "source": [
    "# visualize ACDC results\n",
    "\n",
    "for i in range(x.shape[0]):\n",
    "    print(i)\n",
    "    plt.figure(figsize=(15,10))\n",
    "    plt.subplot(2,3,1)\n",
    "    plt.imshow(x[i].numpy()[0], cmap='gray')\n",
    "    if \"y\" in dir():\n",
    "        plt.subplot(2,3,2)\n",
    "        plt.imshow(y[i])\n",
    "    for j in range(4):\n",
    "        plt.subplot(2,3,3+j)\n",
    "        plt.imshow(res.cpu().detach().numpy()[i,j])\n",
    "    plt.show()"
   ]
  },
  {
   "cell_type": "code",
   "execution_count": null,
   "metadata": {},
   "outputs": [],
   "source": [
    "del(res)"
   ]
  },
  {
   "cell_type": "markdown",
   "metadata": {},
   "source": [
    "## Result visualization per timestep"
   ]
  },
  {
   "cell_type": "code",
   "execution_count": null,
   "metadata": {},
   "outputs": [],
   "source": [
    "# request gammanet to return sequence\n",
    "\n",
    "m = model.module\n",
    "m[2].config['return_sequences'] = True"
   ]
  },
  {
   "cell_type": "code",
   "execution_count": null,
   "metadata": {},
   "outputs": [],
   "source": [
    "# get returned sequences from gammanet \n",
    "\n",
    "out = m[0](x)\n",
    "out = m[1](out)\n",
    "out = m[2](out)"
   ]
  },
  {
   "cell_type": "code",
   "execution_count": null,
   "metadata": {},
   "outputs": [],
   "source": [
    "# visualize  per-timestep outputs\n",
    "\n",
    "idx = 3\n",
    "label = 1\n",
    "\n",
    "plt.figure(figsize=(10,5))\n",
    "plt.subplot(1,2,1)\n",
    "plt.imshow(x[idx].cpu().detach().numpy()[0], cmap='gray')\n",
    "if \"y\" in dir():\n",
    "    plt.subplot(1,2,2)\n",
    "    plt.imshow(y[idx])\n",
    "plt.show()\n",
    "\n",
    "plt.figure(figsize=(20,20))\n",
    "for i, o in enumerate(out[1]):\n",
    "    o = m[3](o)\n",
    "    plt.subplot(len(out[1])//4+1, 4, i+1)\n",
    "    plt.imshow(o[idx,label].cpu().detach().numpy())\n",
    "plt.show()"
   ]
  },
  {
   "cell_type": "code",
   "execution_count": null,
   "metadata": {},
   "outputs": [],
   "source": [
    "del(out)"
   ]
  },
  {
   "cell_type": "markdown",
   "metadata": {},
   "source": [
    "## fGRU kernel visualization"
   ]
  },
  {
   "cell_type": "code",
   "execution_count": null,
   "metadata": {},
   "outputs": [],
   "source": [
    "# inhibition kernels in first down block fGRU\n",
    "k = model.module.state_dict()['2.fgru_down.0.params.w_inh']\n",
    "for i in range(k.shape[0]):\n",
    "    print(i)\n",
    "    plt.figure(figsize=(15,10))\n",
    "    for j in range(k.shape[1]):\n",
    "        plt.subplot(4,6,j+1)\n",
    "        plt.imshow(k.cpu().detach().numpy()[i,j])\n",
    "    plt.show()"
   ]
  },
  {
   "cell_type": "code",
   "execution_count": null,
   "metadata": {},
   "outputs": [],
   "source": [
    "# excitation kernels in first down block fGRU\n",
    "k = model.module.state_dict()['2.fgru_down.0.params.w_exc']\n",
    "for i in range(k.shape[0]):\n",
    "    print(i)\n",
    "    plt.figure(figsize=(15,10))\n",
    "    for j in range(k.shape[1]):\n",
    "        plt.subplot(4,6,j+1)\n",
    "        plt.imshow(k.cpu().detach().numpy()[i,j])\n",
    "    plt.show()"
   ]
  },
  {
   "cell_type": "code",
   "execution_count": null,
   "metadata": {},
   "outputs": [],
   "source": [
    "k = model.module.state_dict()['2.fgru_down.1.params.w_inh']\n",
    "plt.figure(figsize=(15,10))\n",
    "for i in range(k.shape[0]):\n",
    "    plt.subplot(4,7,i+1)\n",
    "    plt.imshow(k.cpu().detach().numpy()[0,i])\n",
    "plt.show()"
   ]
  },
  {
   "cell_type": "code",
   "execution_count": null,
   "metadata": {},
   "outputs": [],
   "source": [
    "k = model.module.state_dict()['2.fgru_down.1.params.w_exc']\n",
    "plt.figure(figsize=(15,10))\n",
    "for i in range(k.shape[0]):\n",
    "    plt.subplot(4,7,i+1)\n",
    "    plt.imshow(k.cpu().detach().numpy()[0,i])\n",
    "plt.show()"
   ]
  },
  {
   "cell_type": "code",
   "execution_count": null,
   "metadata": {},
   "outputs": [],
   "source": []
  }
 ],
 "metadata": {
  "kernelspec": {
   "display_name": "Python 3",
   "language": "python",
   "name": "python3"
  },
  "language_info": {
   "codemirror_mode": {
    "name": "ipython",
    "version": 3
   },
   "file_extension": ".py",
   "mimetype": "text/x-python",
   "name": "python",
   "nbconvert_exporter": "python",
   "pygments_lexer": "ipython3",
   "version": "3.6.9"
  }
 },
 "nbformat": 4,
 "nbformat_minor": 4
}

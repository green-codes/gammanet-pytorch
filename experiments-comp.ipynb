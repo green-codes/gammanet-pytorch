{
 "cells": [
  {
   "cell_type": "code",
   "execution_count": null,
   "metadata": {},
   "outputs": [],
   "source": [
    "import torch\n",
    "import torch.nn as nn\n",
    "import torchvision\n",
    "\n",
    "# %matplotlib nbagg\n",
    "import numpy as np\n",
    "import matplotlib.pyplot as plt\n",
    "\n",
    "import time\n",
    "import os\n",
    "os.environ['KMP_DUPLICATE_LIB_OK']='True'\n",
    "\n",
    "from dataset import *\n",
    "from transforms import *\n",
    "from criteria import *\n",
    "from torch.utils.data import DataLoader"
   ]
  },
  {
   "cell_type": "code",
   "execution_count": null,
   "metadata": {},
   "outputs": [],
   "source": [
    "# BSDS 500\n",
    "\n",
    "# NOTE: remember to adjust PadTo2Power's k value according to gamma-net depth\n",
    "# NOTE: data stays in CPU until right before forward pass (i.e. no need for memory pinning, etc)\n",
    "\n",
    "x_transform = torchvision.transforms.Compose([CenterCrop((256,256)),\n",
    "                                              ToTensor(make_channel_first=True, div=True),\n",
    "                                              PadTo2Power(axes=(1,2), k=5, mode='constant'),\n",
    "                                              AssertWidthMajor()])\n",
    "y_transform = torchvision.transforms.Compose([CenterCrop((256,256)),\n",
    "                                              ToTensor(make_channel_first=False, float_out=False),\n",
    "                                              PadTo2Power(axes=(0,1), k=5, mode='constant'),\n",
    "                                              AssertWidthMajor()])\n",
    "ds_train = SimpleDataset(\"bsds500/x_train.txt\",\n",
    "                         \"bsds500/y_c_train.txt\",\n",
    "                         x_transform=x_transform, y_transform=y_transform)\n",
    "dl_train = DataLoader(ds_train, batch_size=4, shuffle=True, num_workers=0)"
   ]
  },
  {
   "cell_type": "code",
   "execution_count": null,
   "metadata": {},
   "outputs": [],
   "source": [
    "# ACDC\n",
    "\n",
    "# NOTE: remember to adjust PadTo2Power's k value according to gamma-net depth\n",
    "# NOTE: data stays in CPU until right before forward pass (i.e. no need for memory pinning, etc)\n",
    "\n",
    "x_transform = torchvision.transforms.Compose([GaussianSmooth(3,1),\n",
    "                                              CLAHE(clipLimit=2.0, tileGridSize=(8,8)),\n",
    "                                              PadOrCenterCrop(size=(224,224)),\n",
    "                                              ToTensor(make_channel_first=True, div=True),\n",
    "                                              ExpandDims(dim=0)])\n",
    "y_transform = torchvision.transforms.Compose([PadOrCenterCrop(size=(224,224)),\n",
    "                                              ToTensor(make_channel_first=False, float_out=False)])\n",
    "ds_train = SimpleDataset(\"ACDC_Dataset_p/training/x_train.txt\",\n",
    "                         \"ACDC_Dataset_p/training/y_train.txt\",\n",
    "                         x_transform=x_transform, y_transform=y_transform, \n",
    "                         use_cache=True)\n",
    "dl_train = DataLoader(ds_train, batch_size=8, shuffle=True, num_workers=0, pin_memory=True)\n",
    "ds_val = SimpleDataset(\"ACDC_Dataset_p/training/x_val.txt\",\n",
    "                       \"ACDC_Dataset_p/training/y_val.txt\",\n",
    "                       x_transform=x_transform, y_transform=y_transform,\n",
    "                       use_cache=True)\n",
    "dl_val = DataLoader(ds_val, batch_size=16, shuffle=True, num_workers=0, pin_memory=True)"
   ]
  },
  {
   "cell_type": "markdown",
   "metadata": {},
   "source": [
    "# U-Net"
   ]
  },
  {
   "cell_type": "code",
   "execution_count": null,
   "metadata": {},
   "outputs": [],
   "source": [
    "from pytorch_unet.unet import UNet\n",
    "\n",
    "model = UNet(in_channels=1, n_classes=4, depth=5, wf=3,\n",
    "        padding=True, batch_norm=True, up_mode='upsample')\n",
    "\n",
    "if torch.cuda.is_available():\n",
    "    model = model.cuda().float()\n",
    "else:\n",
    "    model = model.double()"
   ]
  },
  {
   "cell_type": "code",
   "execution_count": null,
   "metadata": {},
   "outputs": [],
   "source": [
    "load_model = True\n",
    "model_file = \"models_unet_3/model_unet_e400.pkl\"\n",
    "if load_model:\n",
    "    if torch.cuda.is_available():\n",
    "        model.load_state_dict(torch.load(model_file))\n",
    "    else:\n",
    "        model.load_state_dict(torch.load(model_file, map_location=torch.device('cpu')))"
   ]
  },
  {
   "cell_type": "code",
   "execution_count": null,
   "metadata": {},
   "outputs": [],
   "source": [
    "unet = nn.DataParallel(model)"
   ]
  },
  {
   "cell_type": "markdown",
   "metadata": {},
   "source": [
    "# Gamma-Net"
   ]
  },
  {
   "cell_type": "code",
   "execution_count": null,
   "metadata": {},
   "outputs": [],
   "source": [
    "from gammanet import GammaNet\n",
    "\n",
    "gammanet_config = {\n",
    "    'in_channels': 1,\n",
    "    'return_sequences': False,\n",
    "    'num_filters': [8, 16, 32, 64, 128],\n",
    "    'conv_kernel_size': [3, 3, 3, 3, 3],\n",
    "    'conv_blocksize': [1, 1, 1, 1, 1],\n",
    "    'conv_normtype': 'instancenorm',\n",
    "    'conv_dropout_p': 0.2,  # 0.2\n",
    "    'conv_residual': False,\n",
    "    'fgru_hidden_size': [8, 16, 32, 64, 128],\n",
    "    'fgru_kernel_size': [9,  7,  5,  3,  1,  1,  1,  1,  1],\n",
    "    'fgru_timesteps': 4,\n",
    "    'fgru_normtype': 'instancenorm',\n",
    "    'fgru_channel_sym': True,\n",
    "    'upsample_mode': 'bilinear',\n",
    "    'upsample_all2all': True,\n",
    "}\n",
    "\n",
    "model = nn.Sequential(\n",
    "#     nn.Conv2d(1, 24, 3, padding=1), # Change the number of input channels! \n",
    "#     nn.Conv2d(24, 24, 3, padding=1),\n",
    "    GammaNet(gammanet_config),\n",
    "    nn.Conv2d(8, 4, 5, padding=2)  # Change the expected number of output classes! \n",
    ")\n",
    "\n",
    "if torch.cuda.is_available():\n",
    "    model = model.cuda().float()\n",
    "else:\n",
    "    model = model.double()"
   ]
  },
  {
   "cell_type": "code",
   "execution_count": null,
   "metadata": {},
   "outputs": [],
   "source": [
    "load_model = True\n",
    "model_file = \"models_gn_6/model_e400.pkl\"\n",
    "if load_model:\n",
    "    if torch.cuda.is_available():\n",
    "        model.load_state_dict(torch.load(model_file))\n",
    "    else:\n",
    "        model.load_state_dict(torch.load(model_file, map_location=torch.device('cpu')))"
   ]
  },
  {
   "cell_type": "code",
   "execution_count": null,
   "metadata": {},
   "outputs": [],
   "source": [
    "gnet = nn.DataParallel(model)"
   ]
  },
  {
   "cell_type": "markdown",
   "metadata": {},
   "source": [
    "# Tests"
   ]
  },
  {
   "cell_type": "code",
   "execution_count": null,
   "metadata": {},
   "outputs": [],
   "source": [
    "def count_parameters(model):\n",
    "    return sum(p.numel() for p in model.parameters() if p.requires_grad)\n",
    "print(count_parameters(unet.module))\n",
    "print(count_parameters(gnet.module))"
   ]
  },
  {
   "cell_type": "markdown",
   "metadata": {},
   "source": [
    "## Statistics"
   ]
  },
  {
   "cell_type": "code",
   "execution_count": null,
   "metadata": {},
   "outputs": [],
   "source": [
    "res_unet_arr = []\n",
    "res_gnet_arr = []\n",
    "label_arr = []\n",
    "for i, (x,y) in enumerate(dl_val):\n",
    "    with torch.no_grad():\n",
    "        x = x.cuda().float()\n",
    "        res_unet_arr += [unet(x)]\n",
    "        res_gnet_arr += [gnet(x)]\n",
    "        label_arr += [y]\n",
    "    print(\"{}/{}\".format(i+1, len(dl_val)), end='\\r')\n",
    "res_unet_arr = torch.cat(res_unet_arr, axis=0)\n",
    "res_gnet_arr = torch.cat(res_gnet_arr, axis=0)\n",
    "label_arr = torch.cat(label_arr, axis=0)"
   ]
  },
  {
   "cell_type": "code",
   "execution_count": null,
   "metadata": {},
   "outputs": [],
   "source": [
    "def cross_entropy(predictions, targets, epsilon=1e-12):\n",
    "    predictions = torch.clamp(predictions, epsilon, 1. - epsilon)\n",
    "    N = predictions.shape[0]\n",
    "    ce = -torch.sum(targets * torch.log(predictions+1e-9)) / N\n",
    "    return ce\n",
    "def dice_coeff(pred, target, smooth = 1.):\n",
    "    pred = nn.Sigmoid()(pred)\n",
    "    num = pred.size(0)\n",
    "    m1 = pred.view(num, -1).float()  # Flatten\n",
    "    m2 = target.view(num, -1).float()  # Flatten\n",
    "    intersection = (m1 * m2).sum().float()\n",
    "    return (2. * intersection + smooth) / (m1.sum() + m2.sum() + smooth)"
   ]
  },
  {
   "cell_type": "code",
   "execution_count": null,
   "metadata": {},
   "outputs": [],
   "source": [
    "print(cross_entropy(res_unet_arr[:,1].cpu(), label_arr.cpu()) / len(label_arr))\n",
    "print(dice_coeff_mc(res_unet_arr.cpu(), label_arr.cpu()))\n",
    "print(cross_entropy(res_gnet_arr[:,1].cpu(), label_arr.cpu()) / len(label_arr))\n",
    "print(dice_coeff_mc(res_gnet_arr.cpu(), label_arr.cpu()))"
   ]
  },
  {
   "cell_type": "markdown",
   "metadata": {},
   "source": [
    "## Result visualizations"
   ]
  },
  {
   "cell_type": "code",
   "execution_count": null,
   "metadata": {},
   "outputs": [],
   "source": [
    "# load from val data\n",
    "\n",
    "x,y = next(iter(dl_val))\n",
    "x = x.float() if torch.cuda.is_available() else x.double()\n",
    "print(x.shape, y.shape)\n",
    "print(x.max(),x.min(),y.max(),y.min())"
   ]
  },
  {
   "cell_type": "code",
   "execution_count": null,
   "metadata": {},
   "outputs": [],
   "source": [
    "# run test data through model\n",
    "\n",
    "model = unet\n",
    "model.eval()\n",
    "with torch.no_grad():\n",
    "    res_unet = model(x)\n",
    "    print(dice_coeff_mc(res_unet.cpu(),y))\n",
    "    print(nn.CrossEntropyLoss()(res_unet.cpu(),y.long()))"
   ]
  },
  {
   "cell_type": "code",
   "execution_count": null,
   "metadata": {},
   "outputs": [],
   "source": [
    "# run test data through model\n",
    "\n",
    "model = gnet\n",
    "model.eval()\n",
    "with torch.no_grad():\n",
    "    res_gnet = model(x)\n",
    "    print(dice_coeff_mc(res_gnet.cpu(),y))\n",
    "    print(nn.CrossEntropyLoss()(res_gnet.cpu(),y.long()))"
   ]
  },
  {
   "cell_type": "code",
   "execution_count": null,
   "metadata": {
    "scrolled": false
   },
   "outputs": [],
   "source": [
    "# visualize ACDC results\n",
    "thres = 0.\n",
    "ss = nn.Sigmoid() \n",
    "# ss = nn.Softmax(dim=1)\n",
    "\n",
    "for i in range(x.shape[0]):\n",
    "    print(i)\n",
    "    plt.figure(figsize=(15,10))\n",
    "    plt.subplot(2,3,1)\n",
    "    plt.imshow(x[i].numpy()[0], cmap='gray')\n",
    "    if \"y\" in dir():\n",
    "        plt.subplot(2,3,2)\n",
    "        plt.imshow(y[i])\n",
    "    for j in range(res_unet.shape[1]):\n",
    "        plt.subplot(2,3,3+j)\n",
    "        plt.imshow(ss(res_unet).cpu().detach().numpy()[i,j])\n",
    "#         plt.colorbar()\n",
    "    plt.show()\n",
    "    \n",
    "    plt.figure(figsize=(15,10))\n",
    "    plt.subplot(2,3,1)\n",
    "    plt.imshow(x[i].numpy()[0], cmap='gray')\n",
    "    if \"y\" in dir():\n",
    "        plt.subplot(2,3,2)\n",
    "        plt.imshow(y[i])\n",
    "    for j in range(res_gnet.shape[1]):\n",
    "        plt.subplot(2,3,3+j)\n",
    "        plt.imshow(ss(res_gnet).cpu().detach().numpy()[i,j])\n",
    "#         plt.colorbar()\n",
    "    plt.show()"
   ]
  },
  {
   "cell_type": "markdown",
   "metadata": {},
   "source": [
    "## Result visualization per timestep"
   ]
  },
  {
   "cell_type": "code",
   "execution_count": null,
   "metadata": {},
   "outputs": [],
   "source": [
    "# request gammanet to return sequence\n",
    "\n",
    "m = model.module\n",
    "m[2].config['return_sequences'] = True"
   ]
  },
  {
   "cell_type": "code",
   "execution_count": null,
   "metadata": {},
   "outputs": [],
   "source": [
    "# get returned sequences from gammanet \n",
    "\n",
    "out = m[0](x)\n",
    "out = m[1](out)\n",
    "out = m[2](out)"
   ]
  },
  {
   "cell_type": "code",
   "execution_count": null,
   "metadata": {},
   "outputs": [],
   "source": [
    "# visualize  per-timestep outputs\n",
    "\n",
    "idx = 3\n",
    "label = 1\n",
    "\n",
    "plt.figure(figsize=(10,5))\n",
    "plt.subplot(1,2,1)\n",
    "plt.imshow(x[idx].cpu().detach().numpy()[0], cmap='gray')\n",
    "if \"y\" in dir():\n",
    "    plt.subplot(1,2,2)\n",
    "    plt.imshow(y[idx])\n",
    "plt.show()\n",
    "\n",
    "plt.figure(figsize=(20,20))\n",
    "for i, o in enumerate(out[1]):\n",
    "    o = m[3](o)\n",
    "    plt.subplot(len(out[1])//4+1, 4, i+1)\n",
    "    plt.imshow(o[idx,label].cpu().detach().numpy())\n",
    "plt.show()"
   ]
  },
  {
   "cell_type": "code",
   "execution_count": null,
   "metadata": {},
   "outputs": [],
   "source": [
    "del(out)"
   ]
  },
  {
   "cell_type": "markdown",
   "metadata": {},
   "source": [
    "## fGRU kernel visualization"
   ]
  },
  {
   "cell_type": "code",
   "execution_count": null,
   "metadata": {},
   "outputs": [],
   "source": [
    "# inhibition kernels in first down block fGRU\n",
    "k = model.module.state_dict()['2.fgru_down.0.params.w_inh']\n",
    "for i in range(k.shape[0]):\n",
    "    print(i)\n",
    "    plt.figure(figsize=(15,10))\n",
    "    for j in range(k.shape[1]):\n",
    "        plt.subplot(4,6,j+1)\n",
    "        plt.imshow(k.cpu().detach().numpy()[i,j])\n",
    "    plt.show()"
   ]
  },
  {
   "cell_type": "code",
   "execution_count": null,
   "metadata": {},
   "outputs": [],
   "source": [
    "# excitation kernels in first down block fGRU\n",
    "k = model.module.state_dict()['2.fgru_down.0.params.w_exc']\n",
    "for i in range(k.shape[0]):\n",
    "    print(i)\n",
    "    plt.figure(figsize=(15,10))\n",
    "    for j in range(k.shape[1]):\n",
    "        plt.subplot(4,6,j+1)\n",
    "        plt.imshow(k.cpu().detach().numpy()[i,j])\n",
    "    plt.show()"
   ]
  },
  {
   "cell_type": "code",
   "execution_count": null,
   "metadata": {},
   "outputs": [],
   "source": [
    "k = model.module.state_dict()['2.fgru_down.1.params.w_inh']\n",
    "plt.figure(figsize=(15,10))\n",
    "for i in range(k.shape[0]):\n",
    "    plt.subplot(4,7,i+1)\n",
    "    plt.imshow(k.cpu().detach().numpy()[0,i])\n",
    "plt.show()"
   ]
  },
  {
   "cell_type": "code",
   "execution_count": null,
   "metadata": {},
   "outputs": [],
   "source": [
    "k = model.module.state_dict()['2.fgru_down.1.params.w_exc']\n",
    "plt.figure(figsize=(15,10))\n",
    "for i in range(k.shape[0]):\n",
    "    plt.subplot(4,7,i+1)\n",
    "    plt.imshow(k.cpu().detach().numpy()[0,i])\n",
    "plt.show()"
   ]
  },
  {
   "cell_type": "code",
   "execution_count": null,
   "metadata": {},
   "outputs": [],
   "source": []
  }
 ],
 "metadata": {
  "kernelspec": {
   "display_name": "Python 3",
   "language": "python",
   "name": "python3"
  },
  "language_info": {
   "codemirror_mode": {
    "name": "ipython",
    "version": 3
   },
   "file_extension": ".py",
   "mimetype": "text/x-python",
   "name": "python",
   "nbconvert_exporter": "python",
   "pygments_lexer": "ipython3",
   "version": "3.6.9"
  }
 },
 "nbformat": 4,
 "nbformat_minor": 4
}

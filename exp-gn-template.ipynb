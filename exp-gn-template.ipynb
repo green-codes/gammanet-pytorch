{
 "cells": [
  {
   "cell_type": "code",
   "execution_count": 1,
   "metadata": {},
   "outputs": [
    {
     "name": "stdout",
     "output_type": "stream",
     "text": [
      "The history saving thread hit an unexpected error (DatabaseError('database disk image is malformed')).History will not be written to the database.\n"
     ]
    },
    {
     "data": {
      "text/plain": [
       "<torch._C.Generator at 0x7fb8388c0af0>"
      ]
     },
     "execution_count": 1,
     "metadata": {},
     "output_type": "execute_result"
    }
   ],
   "source": [
    "import torch\n",
    "import torch.nn as nn\n",
    "import torchvision\n",
    "\n",
    "import numpy as np\n",
    "import matplotlib.pyplot as plt\n",
    "\n",
    "import time\n",
    "import os\n",
    "os.environ['KMP_DUPLICATE_?LIB_OK']='True'\n",
    "\n",
    "from dataset import *\n",
    "from transforms import *\n",
    "from criteria import *\n",
    "from torch.utils.data import DataLoader, random_split\n",
    "\n",
    "torch.manual_seed(42)"
   ]
  },
  {
   "cell_type": "code",
   "execution_count": null,
   "metadata": {},
   "outputs": [],
   "source": [
    "# batch options \n",
    "\n",
    "epochs = 2\n",
    "\n",
    "save_model = True\n",
    "save_period = 1\n",
    "save_loss = True\n",
    "\n",
    "experiment_code = os.environ[\"EXP_CODE\"]\n",
    "save_root = \"{}/\".format(experiment_code)\n",
    "log_dir = \"{}/{}/\".format(os.environ[\"CODE_ROOT\"], os.environ[\"LOG_SUBDIR\"])\n",
    "\n",
    "model_file_template = save_root + \"model_e{}.pkl\"\n",
    "loss_file_path = save_root + \"loss.pkl\"\n",
    "loss_png_path = save_root + \"loss.png\"\n",
    "\n",
    "status_file = save_root + \"live.out\"\n",
    "log_file = log_dir + \"{}.log\".format(experiment_code)"
   ]
  },
  {
   "cell_type": "markdown",
   "metadata": {},
   "source": [
    "# Datasets"
   ]
  },
  {
   "cell_type": "code",
   "execution_count": 2,
   "metadata": {},
   "outputs": [],
   "source": [
    "# ACDC\n",
    "\n",
    "# NOTE: data stays in CPU until right before forward pass (i.e. no need for memory pinning, etc)\n",
    "\n",
    "x_transform = torchvision.transforms.Compose([GaussianSmooth(3,1),\n",
    "                                              CLAHE(clipLimit=2.0, tileGridSize=(8,8)),\n",
    "                                              MinMax(),\n",
    "                                              PadOrCenterCrop(size=(176,176)),\n",
    "#                                               ToTensor(make_CHW=True, out_type=float)])\n",
    "                                              TimeSeriesToTensor(make_TCHW=True, out_type=float)])\n",
    "y_transform = torchvision.transforms.Compose([PadOrCenterCrop(size=(176,176)),\n",
    "                                              ToTensor(make_CHW=False, out_type=int),\n",
    "                                              SelectClass(3)])\n",
    "\n",
    "data_dir = \"ACDC_split_ts8/training_8-2/\"\n",
    "# data_dir = \"ACDC_split/training_8-2/\"\n",
    "ds_train = SimpleDataset(data_dir + \"x_train.txt\", data_dir + \"y_train.txt\",\n",
    "                         x_transform=x_transform, y_transform=y_transform, use_cache=True)\n",
    "ds_val = SimpleDataset(data_dir + \"x_val.txt\", data_dir + \"y_val.txt\",\n",
    "                         x_transform=x_transform, y_transform=y_transform, use_cache=True)\n",
    "\n",
    "dl_train = DataLoader(ds_train, batch_size=2, shuffle=True, num_workers=0, pin_memory=True)\n",
    "dl_val = DataLoader(ds_val, batch_size=16, shuffle=True, num_workers=0, pin_memory=True)"
   ]
  },
  {
   "cell_type": "code",
   "execution_count": 4,
   "metadata": {},
   "outputs": [
    {
     "name": "stdout",
     "output_type": "stream",
     "text": [
      "torch.Size([8, 1, 176, 176]) torch.Size([176, 176])\n"
     ]
    }
   ],
   "source": [
    "x,y = next(iter(ds_train))\n",
    "print(x.shape, y.shape)"
   ]
  },
  {
   "cell_type": "markdown",
   "metadata": {},
   "source": [
    "# Gamma-Net"
   ]
  },
  {
   "cell_type": "code",
   "execution_count": null,
   "metadata": {},
   "outputs": [],
   "source": [
    "from gammanet import GammaNet\n",
    "\n",
    "gammanet_config = GammaNet._get_default_config()\n",
    "gammanet_config[\"input_timeseries\"] = True\n",
    "gammanet_config[\"fgru_timesteps\"] = 4  # necessary for time series input\n",
    "\n",
    "model = nn.Sequential(\n",
    "#     nn.Conv2d(1, 24, 3, padding=1), # Change the number of input channels! \n",
    "#     nn.Conv2d(24, 24, 3, padding=1),\n",
    "    GammaNet(gammanet_config),\n",
    "    nn.ReLU(), \n",
    "    nn.BatchNorm2d(24, eps=1e-3),\n",
    "    nn.Conv2d(24, 1, 5, padding=2),  # Change the expected number of output classes! \n",
    "#     nn.ReLU(),\n",
    "#     nn.BatchNorm2d(2, eps=1e-3),\n",
    "#     nn.Conv2d(1, 1, 1, padding=0)\n",
    ")\n",
    "\n",
    "if torch.cuda.is_available():\n",
    "    model = model.cuda().float()\n",
    "else:\n",
    "    model = model.double()"
   ]
  },
  {
   "cell_type": "code",
   "execution_count": null,
   "metadata": {},
   "outputs": [],
   "source": [
    "load_model = False\n",
    "model_file = \"models_gn_8_1-9/model_e200.pkl\"\n",
    "if load_model:\n",
    "    if torch.cuda.is_available():\n",
    "        model.load_state_dict(torch.load(model_file))\n",
    "    else:\n",
    "        model.load_state_dict(torch.load(model_file, map_location=torch.device('cpu')))"
   ]
  },
  {
   "cell_type": "code",
   "execution_count": null,
   "metadata": {},
   "outputs": [],
   "source": [
    "model = nn.DataParallel(model)"
   ]
  },
  {
   "cell_type": "markdown",
   "metadata": {},
   "source": [
    "# Training model"
   ]
  },
  {
   "cell_type": "code",
   "execution_count": null,
   "metadata": {},
   "outputs": [],
   "source": [
    "import torch.optim as optim\n",
    "\n",
    "# criterion = nn.CrossEntropyLoss()\n",
    "criterion = nn.BCEWithLogitsLoss()\n",
    "criterion = criterion.cuda() if torch.cuda.is_available() else criterion\n",
    "optimizer = optim.Adam(model.parameters(), lr=1e-3)"
   ]
  },
  {
   "cell_type": "code",
   "execution_count": null,
   "metadata": {},
   "outputs": [],
   "source": [
    "fig, ax = plt.subplots(1, 1)\n",
    "ax.set_ylim(0,1)\n",
    "hl_train, = ax.plot([], [])\n",
    "hl_val, = ax.plot([], [])\n",
    "hl_val_dice, = ax.plot([], [])\n",
    "fig.canvas.draw()"
   ]
  },
  {
   "cell_type": "code",
   "execution_count": null,
   "metadata": {},
   "outputs": [],
   "source": [
    "from datetime import datetime, timedelta\n",
    "start_time = datetime.now()\n",
    "\n",
    "if not os.path.exists(save_root):\n",
    "    os.makedirs(save_root)\n",
    "if not os.path.exists(log_dir):\n",
    "    os.makedirs(log_dir)\n",
    "\n",
    "train_loss = []\n",
    "val_loss = []\n",
    "val_dice = []\n",
    "\n",
    "# epochs = 200\n",
    "for epoch in range(epochs):  # loop over the dataset multiple times\n",
    "\n",
    "    model.train()\n",
    "    train_loss_epoch = []\n",
    "    for i, data in enumerate(dl_train):\n",
    "        inputs = data[0].cuda().float() if torch.cuda.is_available() else data[0].double()\n",
    "        labels = data[1].cuda().float() if torch.cuda.is_available() else data[1].double()\n",
    "\n",
    "        optimizer.zero_grad()\n",
    "        outputs = model.forward(inputs).squeeze()\n",
    "        loss = criterion(outputs, labels)\n",
    "        loss.backward()\n",
    "        optimizer.step()\n",
    "        train_loss_epoch += [loss.item()]\n",
    "\n",
    "        # print statistics\n",
    "        progress = (i+1 + epoch*len(dl_train)) / (epochs*len(dl_train))\n",
    "        time_elapsed = datetime.now() - start_time\n",
    "        time_to_completion = time_elapsed / progress - time_elapsed\n",
    "        status_str = \"Epoch: {}, Train, Batch {}/{}, ETA: {}\".format(epoch+1, i+1, len(dl_train),\n",
    "                                                                    str(time_to_completion))\n",
    "        with open(status_file, 'w') as f:\n",
    "            f.write(status_str)\n",
    "\n",
    "    model.eval()\n",
    "    val_loss_epoch = []\n",
    "    val_dice_epoch = []\n",
    "    for i, data in enumerate(dl_val):\n",
    "        inputs = data[0].cuda().float() if torch.cuda.is_available() else data[0].double()\n",
    "        labels = data[1].cuda().float() if torch.cuda.is_available() else data[1].double()\n",
    "        \n",
    "        with torch.no_grad():\n",
    "            outputs = model.forward(inputs).squeeze()\n",
    "            loss = criterion(outputs, labels)\n",
    "            dice = dice_coeff(torch.sigmoid(outputs), labels)\n",
    "        val_loss_epoch += [loss.item()]\n",
    "        val_dice_epoch += [dice.item()]\n",
    "        \n",
    "        status_str = \"Epoch: {}, Val, Batch {}/{}\".format(epoch+1, i+1, len(dl_val))\n",
    "        with open(status_file, 'w') as f:\n",
    "            f.write(status_str)\n",
    "\n",
    "    train_loss += [train_loss_epoch]\n",
    "    val_loss += [val_loss_epoch]\n",
    "    val_dice += [val_dice_epoch]\n",
    "    \n",
    "    # update loss graph\n",
    "    hl_train.set_xdata(np.append(hl_train.get_xdata(), epoch+1))\n",
    "    hl_train.set_ydata(np.append(hl_train.get_ydata(), np.mean(train_loss_epoch)))\n",
    "    hl_val.set_xdata(np.append(hl_val.get_xdata(), epoch+1))\n",
    "    hl_val.set_ydata(np.append(hl_val.get_ydata(), np.mean(val_loss_epoch)))\n",
    "    hl_val_dice.set_xdata(np.append(hl_val_dice.get_xdata(), epoch+1))\n",
    "    hl_val_dice.set_ydata(np.append(hl_val_dice.get_ydata(), np.mean(val_dice_epoch)))\n",
    "    ax.legend(['Train','Val','Val_Dice']); ax.relim(); ax.autoscale(axis='x'); fig.canvas.draw()\n",
    "        \n",
    "    if save_model and (epoch+1) % save_period == 0:\n",
    "        if isinstance(model, nn.DataParallel):\n",
    "            torch.save(model.module.state_dict(), model_file_template.format(epoch+1))\n",
    "        else:\n",
    "            torch.save(model.state_dict(), model_file_template.format(epoch+1))\n",
    "    \n",
    "    progress = (epoch+1) / epochs\n",
    "    time_elapsed = datetime.now() - start_time\n",
    "    time_to_completion = time_elapsed / progress - time_elapsed\n",
    "    summary_str = \"Epoch: {}, Val Loss: {}, Val Dice: {}, ETA: {}\\n\"\n",
    "    summary_str = summary_str.format(epoch+1, np.mean(val_loss_epoch),\n",
    "                                     np.mean(val_dice_epoch), str(time_to_completion))\n",
    "    print(summary_str)\n",
    "    with open(log_file, 'a') as f:\n",
    "        f.write(summary_str)\n",
    "\n",
    "if save_loss:\n",
    "    pickle.dump((train_loss, val_loss, val_dice), open(loss_file_path, 'wb'))\n",
    "    plt.savefig(loss_png_path)\n",
    "\n",
    "status_str = ('\\nFinished Training')\n",
    "print(status_str)\n",
    "with open(status_file, 'w') as f:\n",
    "    f.write(status_str)"
   ]
  },
  {
   "cell_type": "code",
   "execution_count": null,
   "metadata": {},
   "outputs": [],
   "source": []
  }
 ],
 "metadata": {
  "kernelspec": {
   "display_name": "Python 3",
   "language": "python",
   "name": "python3"
  },
  "language_info": {
   "codemirror_mode": {
    "name": "ipython",
    "version": 3
   },
   "file_extension": ".py",
   "mimetype": "text/x-python",
   "name": "python",
   "nbconvert_exporter": "python",
   "pygments_lexer": "ipython3",
   "version": "3.7.6"
  }
 },
 "nbformat": 4,
 "nbformat_minor": 4
}
